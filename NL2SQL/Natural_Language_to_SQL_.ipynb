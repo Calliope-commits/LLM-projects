{
  "nbformat": 4,
  "nbformat_minor": 0,
  "metadata": {
    "colab": {
      "provenance": []
    },
    "kernelspec": {
      "name": "python3",
      "display_name": "Python 3"
    },
    "language_info": {
      "name": "python"
    }
  },
  "cells": [
    {
      "cell_type": "markdown",
      "metadata": {
        "id": "view-in-github"
      },
      "source": [
        "<a href=\"https://colab.research.google.com/github/PradipNichite/Youtube-Tutorials/blob/main/Langchain_NL2SQL_2024.ipynb\" target=\"_parent\"><img src=\"https://colab.research.google.com/assets/colab-badge.svg\" alt=\"Open In Colab\"/></a>"
      ]
    },
    {
      "cell_type": "code",
      "source": [
        "from google.colab import drive\n",
        "drive.mount('/content/drive')\n"
      ],
      "metadata": {
        "colab": {
          "base_uri": "https://localhost:8080/"
        },
        "id": "xzaSdx_B7QSw",
        "outputId": "06637f52-de9e-49fe-e943-6c6d7e3fdfa6"
      },
      "execution_count": 1,
      "outputs": [
        {
          "output_type": "stream",
          "name": "stdout",
          "text": [
            "Mounted at /content/drive\n"
          ]
        }
      ]
    },
    {
      "cell_type": "code",
      "execution_count": 2,
      "metadata": {
        "id": "HUShN3Sm0Lr0",
        "colab": {
          "base_uri": "https://localhost:8080/"
        },
        "outputId": "9fc47a57-3431-4370-839e-ab7b4772883d"
      },
      "outputs": [
        {
          "output_type": "stream",
          "name": "stdout",
          "text": [
            "\u001b[?25l     \u001b[90m━━━━━━━━━━━━━━━━━━━━━━━━━━━━━━━━━━━━━━━━\u001b[0m \u001b[32m0.0/67.3 kB\u001b[0m \u001b[31m?\u001b[0m eta \u001b[36m-:--:--\u001b[0m\r\u001b[2K     \u001b[90m━━━━━━━━━━━━━━━━━━━━━━━━━━━━━━━━━━━━━━━━\u001b[0m \u001b[32m67.3/67.3 kB\u001b[0m \u001b[31m4.7 MB/s\u001b[0m eta \u001b[36m0:00:00\u001b[0m\n",
            "\u001b[?25h  Installing build dependencies ... \u001b[?25l\u001b[?25hdone\n",
            "  Getting requirements to build wheel ... \u001b[?25l\u001b[?25hdone\n",
            "  Preparing metadata (pyproject.toml) ... \u001b[?25l\u001b[?25hdone\n",
            "\u001b[2K   \u001b[90m━━━━━━━━━━━━━━━━━━━━━━━━━━━━━━━━━━━━━━━━\u001b[0m \u001b[32m50.4/50.4 kB\u001b[0m \u001b[31m4.4 MB/s\u001b[0m eta \u001b[36m0:00:00\u001b[0m\n",
            "\u001b[2K   \u001b[90m━━━━━━━━━━━━━━━━━━━━━━━━━━━━━━━━━━━━━━━━\u001b[0m \u001b[32m2.4/2.4 MB\u001b[0m \u001b[31m47.7 MB/s\u001b[0m eta \u001b[36m0:00:00\u001b[0m\n",
            "\u001b[2K   \u001b[90m━━━━━━━━━━━━━━━━━━━━━━━━━━━━━━━━━━━━━━━━\u001b[0m \u001b[32m45.0/45.0 kB\u001b[0m \u001b[31m3.6 MB/s\u001b[0m eta \u001b[36m0:00:00\u001b[0m\n",
            "\u001b[2K   \u001b[90m━━━━━━━━━━━━━━━━━━━━━━━━━━━━━━━━━━━━━━━━\u001b[0m \u001b[32m617.9/617.9 kB\u001b[0m \u001b[31m40.5 MB/s\u001b[0m eta \u001b[36m0:00:00\u001b[0m\n",
            "\u001b[2K   \u001b[90m━━━━━━━━━━━━━━━━━━━━━━━━━━━━━━━━━━━━━━━━\u001b[0m \u001b[32m2.4/2.4 MB\u001b[0m \u001b[31m79.9 MB/s\u001b[0m eta \u001b[36m0:00:00\u001b[0m\n",
            "\u001b[2K   \u001b[90m━━━━━━━━━━━━━━━━━━━━━━━━━━━━━━━━━━━━━━━━\u001b[0m \u001b[32m273.8/273.8 kB\u001b[0m \u001b[31m22.4 MB/s\u001b[0m eta \u001b[36m0:00:00\u001b[0m\n",
            "\u001b[2K   \u001b[90m━━━━━━━━━━━━━━━━━━━━━━━━━━━━━━━━━━━━━━━━\u001b[0m \u001b[32m94.9/94.9 kB\u001b[0m \u001b[31m8.7 MB/s\u001b[0m eta \u001b[36m0:00:00\u001b[0m\n",
            "\u001b[2K   \u001b[90m━━━━━━━━━━━━━━━━━━━━━━━━━━━━━━━━━━━━━━━━\u001b[0m \u001b[32m1.9/1.9 MB\u001b[0m \u001b[31m66.2 MB/s\u001b[0m eta \u001b[36m0:00:00\u001b[0m\n",
            "\u001b[2K   \u001b[90m━━━━━━━━━━━━━━━━━━━━━━━━━━━━━━━━━━━━━━━━\u001b[0m \u001b[32m93.2/93.2 kB\u001b[0m \u001b[31m7.8 MB/s\u001b[0m eta \u001b[36m0:00:00\u001b[0m\n",
            "\u001b[2K   \u001b[90m━━━━━━━━━━━━━━━━━━━━━━━━━━━━━━━━━━━━━━━━\u001b[0m \u001b[32m13.3/13.3 MB\u001b[0m \u001b[31m86.0 MB/s\u001b[0m eta \u001b[36m0:00:00\u001b[0m\n",
            "\u001b[2K   \u001b[90m━━━━━━━━━━━━━━━━━━━━━━━━━━━━━━━━━━━━━━━━\u001b[0m \u001b[32m55.8/55.8 kB\u001b[0m \u001b[31m4.9 MB/s\u001b[0m eta \u001b[36m0:00:00\u001b[0m\n",
            "\u001b[2K   \u001b[90m━━━━━━━━━━━━━━━━━━━━━━━━━━━━━━━━━━━━━━━━\u001b[0m \u001b[32m159.2/159.2 kB\u001b[0m \u001b[31m13.6 MB/s\u001b[0m eta \u001b[36m0:00:00\u001b[0m\n",
            "\u001b[2K   \u001b[90m━━━━━━━━━━━━━━━━━━━━━━━━━━━━━━━━━━━━━━━━\u001b[0m \u001b[32m64.3/64.3 kB\u001b[0m \u001b[31m5.3 MB/s\u001b[0m eta \u001b[36m0:00:00\u001b[0m\n",
            "\u001b[2K   \u001b[90m━━━━━━━━━━━━━━━━━━━━━━━━━━━━━━━━━━━━━━━━\u001b[0m \u001b[32m118.8/118.8 kB\u001b[0m \u001b[31m7.2 MB/s\u001b[0m eta \u001b[36m0:00:00\u001b[0m\n",
            "\u001b[2K   \u001b[90m━━━━━━━━━━━━━━━━━━━━━━━━━━━━━━━━━━━━━━━━\u001b[0m \u001b[32m54.4/54.4 kB\u001b[0m \u001b[31m4.4 MB/s\u001b[0m eta \u001b[36m0:00:00\u001b[0m\n",
            "\u001b[2K   \u001b[90m━━━━━━━━━━━━━━━━━━━━━━━━━━━━━━━━━━━━━━━━\u001b[0m \u001b[32m3.1/3.1 MB\u001b[0m \u001b[31m81.0 MB/s\u001b[0m eta \u001b[36m0:00:00\u001b[0m\n",
            "\u001b[2K   \u001b[90m━━━━━━━━━━━━━━━━━━━━━━━━━━━━━━━━━━━━━━━━\u001b[0m \u001b[32m1.2/1.2 MB\u001b[0m \u001b[31m53.9 MB/s\u001b[0m eta \u001b[36m0:00:00\u001b[0m\n",
            "\u001b[2K   \u001b[90m━━━━━━━━━━━━━━━━━━━━━━━━━━━━━━━━━━━━━━━━\u001b[0m \u001b[32m63.7/63.7 kB\u001b[0m \u001b[31m4.7 MB/s\u001b[0m eta \u001b[36m0:00:00\u001b[0m\n",
            "\u001b[2K   \u001b[90m━━━━━━━━━━━━━━━━━━━━━━━━━━━━━━━━━━━━━━━━\u001b[0m \u001b[32m442.1/442.1 kB\u001b[0m \u001b[31m26.8 MB/s\u001b[0m eta \u001b[36m0:00:00\u001b[0m\n",
            "\u001b[2K   \u001b[90m━━━━━━━━━━━━━━━━━━━━━━━━━━━━━━━━━━━━━━━━\u001b[0m \u001b[32m49.5/49.5 kB\u001b[0m \u001b[31m4.1 MB/s\u001b[0m eta \u001b[36m0:00:00\u001b[0m\n",
            "\u001b[2K   \u001b[90m━━━━━━━━━━━━━━━━━━━━━━━━━━━━━━━━━━━━━━━━\u001b[0m \u001b[32m316.6/316.6 kB\u001b[0m \u001b[31m24.9 MB/s\u001b[0m eta \u001b[36m0:00:00\u001b[0m\n",
            "\u001b[2K   \u001b[90m━━━━━━━━━━━━━━━━━━━━━━━━━━━━━━━━━━━━━━━━\u001b[0m \u001b[32m73.2/73.2 kB\u001b[0m \u001b[31m6.1 MB/s\u001b[0m eta \u001b[36m0:00:00\u001b[0m\n",
            "\u001b[2K   \u001b[90m━━━━━━━━━━━━━━━━━━━━━━━━━━━━━━━━━━━━━━━━\u001b[0m \u001b[32m3.8/3.8 MB\u001b[0m \u001b[31m86.6 MB/s\u001b[0m eta \u001b[36m0:00:00\u001b[0m\n",
            "\u001b[2K   \u001b[90m━━━━━━━━━━━━━━━━━━━━━━━━━━━━━━━━━━━━━━━━\u001b[0m \u001b[32m425.7/425.7 kB\u001b[0m \u001b[31m32.8 MB/s\u001b[0m eta \u001b[36m0:00:00\u001b[0m\n",
            "\u001b[2K   \u001b[90m━━━━━━━━━━━━━━━━━━━━━━━━━━━━━━━━━━━━━━━━\u001b[0m \u001b[32m168.2/168.2 kB\u001b[0m \u001b[31m13.8 MB/s\u001b[0m eta \u001b[36m0:00:00\u001b[0m\n",
            "\u001b[2K   \u001b[90m━━━━━━━━━━━━━━━━━━━━━━━━━━━━━━━━━━━━━━━━\u001b[0m \u001b[32m46.0/46.0 kB\u001b[0m \u001b[31m3.5 MB/s\u001b[0m eta \u001b[36m0:00:00\u001b[0m\n",
            "\u001b[2K   \u001b[90m━━━━━━━━━━━━━━━━━━━━━━━━━━━━━━━━━━━━━━━━\u001b[0m \u001b[32m86.8/86.8 kB\u001b[0m \u001b[31m7.3 MB/s\u001b[0m eta \u001b[36m0:00:00\u001b[0m\n",
            "\u001b[?25h  Building wheel for pypika (pyproject.toml) ... \u001b[?25l\u001b[?25hdone\n",
            "\u001b[31mERROR: pip's dependency resolver does not currently take into account all the packages that are installed. This behaviour is the source of the following dependency conflicts.\n",
            "tensorflow 2.17.1 requires protobuf!=4.21.0,!=4.21.1,!=4.21.2,!=4.21.3,!=4.21.4,!=4.21.5,<5.0.0dev,>=3.20.3, but you have protobuf 5.28.3 which is incompatible.\n",
            "tensorflow-metadata 1.13.1 requires protobuf<5,>=3.20.3, but you have protobuf 5.28.3 which is incompatible.\u001b[0m\u001b[31m\n",
            "\u001b[0m"
          ]
        }
      ],
      "source": [
        "# Install required libraries for the project\n",
        "!pip install langchain_openai langchain_community langchain pymysql chromadb -q\n",
        "\n",
        "# Explanation of each library:\n",
        "# - langchain_openai: Library for integrating with OpenAI's APIs.\n",
        "# - langchain_community: Additional tools and integrations for LangChain.\n",
        "# - langchain: Core framework for building advanced data workflows.\n",
        "# - pymysql: Python library for connecting to MySQL databases.\n",
        "# - chromadb: A database for managing and searching high-dimensional vectors.\n",
        "# - -q: Quiet mode to suppress installation output.\n"
      ]
    },
    {
      "cell_type": "markdown",
      "source": [],
      "metadata": {
        "id": "OXdNuzAdWTdv"
      }
    },
    {
      "cell_type": "markdown",
      "source": [
        "###Define Database Connection Parameters\n",
        "\n",
        "This step sets up the necessary credentials to connect to a MySQL database.\n",
        "- **db_user**: Username used to authenticate the database connection.\n",
        "- **db_password**: Password corresponding to the database user.\n",
        "- **db_host**: The host or endpoint where the database is hosted (can be local or on the cloud).\n",
        "- **db_name**: The name of the specific database to interact with.\n",
        "\n",
        "\n"
      ],
      "metadata": {
        "id": "K1yytpAKs-gh"
      }
    },
    {
      "cell_type": "markdown",
      "source": [
        "https://www.mysqltutorial.org/getting-started-with-mysql/mysql-sample-database/"
      ],
      "metadata": {
        "id": "zROkmBChhBWy"
      }
    },
    {
      "cell_type": "code",
      "source": [
        "# username for the database\n",
        "db_user = \"*****\"\n",
        "\n",
        "# password for the database\n",
        "db_password = \"******\"\n",
        "\n",
        "# host address of the database\n",
        "db_host = \"*****.eu-west-3.rds.amazonaws.com\"\n",
        "\n",
        "# name of the database\n",
        "db_name = \"classicmodels\"\n"
      ],
      "metadata": {
        "id": "c91p9Ep90S9j"
      },
      "execution_count": 3,
      "outputs": []
    },
    {
      "cell_type": "markdown",
      "source": [
        "##Building a basic NL2SQL model"
      ],
      "metadata": {
        "id": "OQJ4HJ-6WYjk"
      }
    },
    {
      "cell_type": "markdown",
      "source": [
        "### Step: Connect to the SQL Database\n",
        "\n",
        "This step establishes a connection to a MySQL database using the `SQLDatabase` utility from `langchain_community`.\n",
        "The connection is defined via a formatted URI containing the database type (`mysql`), driver (`pymysql`), and credentials (`user`, `password`, `host`, and `database name`).\n"
      ],
      "metadata": {
        "id": "F19V6jk5tWJ3"
      }
    },
    {
      "cell_type": "code",
      "source": [
        "from langchain_community.utilities.sql_database import SQLDatabase\n",
        "\n",
        "# connect to the SQL database using the SQLDatabase utility\n",
        "# the connection uses MySQL with PyMySQL as the driver\n",
        "# database connection parameters (user, password, host, database name) are passed via a formatted URI\n",
        "# options for customizing table metadata (like sample rows or included tables) are commented out below\n",
        "\n",
        "db = SQLDatabase.from_uri(f\"mysql+pymysql://{db_user}:{db_password}@{db_host}/{db_name}\")"
      ],
      "metadata": {
        "id": "jiNjFg1i0U3Z"
      },
      "execution_count": 4,
      "outputs": []
    },
    {
      "cell_type": "markdown",
      "source": [
        "### Step: Inspect the Database Connection and Metadata\n",
        "\n",
        "1. **Database Dialect**: The first line prints the dialect of the database (e.g., `mysql`), which indicates the type of database system being used.\n",
        "2. **Usable Table Names**: The second line retrieves and prints a list of table names available in the connected database.\n",
        "3. **Table Metadata**: The third line provides detailed metadata about each table, such as column names, data types, and any custom table info included during initialization.\n",
        "\n",
        "These outputs are helpful for understanding the structure and capabilities of the connected database.\n"
      ],
      "metadata": {
        "id": "GdEkcinHtn1I"
      }
    },
    {
      "cell_type": "code",
      "source": [
        "# print the database dialect being used (e.g., MySQL, PostgreSQL, etc.)\n",
        "print(db.dialect)\n",
        "\n",
        "# print the list of table names in the database that can be accessed\n",
        "print(db.get_usable_table_names())\n",
        "\n",
        "# print detailed metadata information for each table in the database\n",
        "print(db.table_info)"
      ],
      "metadata": {
        "colab": {
          "base_uri": "https://localhost:8080/"
        },
        "id": "4KJLTIDG0YJ5",
        "outputId": "220fdad3-c659-48c4-8806-2641d91e1ccf"
      },
      "execution_count": 5,
      "outputs": [
        {
          "output_type": "stream",
          "name": "stdout",
          "text": [
            "mysql\n",
            "['customers', 'employees', 'offices', 'orderdetails', 'orders', 'payments', 'productlines', 'products']\n",
            "\n",
            "CREATE TABLE customers (\n",
            "\t`customerNumber` INTEGER NOT NULL, \n",
            "\t`customerName` VARCHAR(50) NOT NULL, \n",
            "\t`contactLastName` VARCHAR(50) NOT NULL, \n",
            "\t`contactFirstName` VARCHAR(50) NOT NULL, \n",
            "\tphone VARCHAR(50) NOT NULL, \n",
            "\t`addressLine1` VARCHAR(50) NOT NULL, \n",
            "\t`addressLine2` VARCHAR(50), \n",
            "\tcity VARCHAR(50) NOT NULL, \n",
            "\tstate VARCHAR(50), \n",
            "\t`postalCode` VARCHAR(15), \n",
            "\tcountry VARCHAR(50) NOT NULL, \n",
            "\t`salesRepEmployeeNumber` INTEGER, \n",
            "\t`creditLimit` DECIMAL(10, 2), \n",
            "\tPRIMARY KEY (`customerNumber`), \n",
            "\tCONSTRAINT customers_ibfk_1 FOREIGN KEY(`salesRepEmployeeNumber`) REFERENCES employees (`employeeNumber`)\n",
            ")DEFAULT CHARSET=utf8mb4 COLLATE utf8mb4_0900_ai_ci ENGINE=InnoDB\n",
            "\n",
            "/*\n",
            "3 rows from customers table:\n",
            "customerNumber\tcustomerName\tcontactLastName\tcontactFirstName\tphone\taddressLine1\taddressLine2\tcity\tstate\tpostalCode\tcountry\tsalesRepEmployeeNumber\tcreditLimit\n",
            "103\tAtelier graphique\tSchmitt\tCarine \t40.32.2555\t54, rue Royale\tNone\tNantes\tNone\t44000\tFrance\t1370\t21000.00\n",
            "112\tSignal Gift Stores\tKing\tJean\t7025551838\t8489 Strong St.\tNone\tLas Vegas\tNV\t83030\tUSA\t1166\t71800.00\n",
            "114\tAustralian Collectors, Co.\tFerguson\tPeter\t03 9520 4555\t636 St Kilda Road\tLevel 3\tMelbourne\tVictoria\t3004\tAustralia\t1611\t117300.00\n",
            "*/\n",
            "\n",
            "\n",
            "CREATE TABLE employees (\n",
            "\t`employeeNumber` INTEGER NOT NULL, \n",
            "\t`lastName` VARCHAR(50) NOT NULL, \n",
            "\t`firstName` VARCHAR(50) NOT NULL, \n",
            "\textension VARCHAR(10) NOT NULL, \n",
            "\temail VARCHAR(100) NOT NULL, \n",
            "\t`officeCode` VARCHAR(10) NOT NULL, \n",
            "\t`reportsTo` INTEGER, \n",
            "\t`jobTitle` VARCHAR(50) NOT NULL, \n",
            "\tPRIMARY KEY (`employeeNumber`), \n",
            "\tCONSTRAINT employees_ibfk_1 FOREIGN KEY(`reportsTo`) REFERENCES employees (`employeeNumber`), \n",
            "\tCONSTRAINT employees_ibfk_2 FOREIGN KEY(`officeCode`) REFERENCES offices (`officeCode`)\n",
            ")DEFAULT CHARSET=utf8mb4 COLLATE utf8mb4_0900_ai_ci ENGINE=InnoDB\n",
            "\n",
            "/*\n",
            "3 rows from employees table:\n",
            "employeeNumber\tlastName\tfirstName\textension\temail\tofficeCode\treportsTo\tjobTitle\n",
            "1002\tMurphy\tDiane\tx5800\tdmurphy@classicmodelcars.com\t1\tNone\tPresident\n",
            "1056\tPatterson\tMary\tx4611\tmpatterso@classicmodelcars.com\t1\t1002\tVP Sales\n",
            "1076\tFirrelli\tJeff\tx9273\tjfirrelli@classicmodelcars.com\t1\t1002\tVP Marketing\n",
            "*/\n",
            "\n",
            "\n",
            "CREATE TABLE offices (\n",
            "\t`officeCode` VARCHAR(10) NOT NULL, \n",
            "\tcity VARCHAR(50) NOT NULL, \n",
            "\tphone VARCHAR(50) NOT NULL, \n",
            "\t`addressLine1` VARCHAR(50) NOT NULL, \n",
            "\t`addressLine2` VARCHAR(50), \n",
            "\tstate VARCHAR(50), \n",
            "\tcountry VARCHAR(50) NOT NULL, \n",
            "\t`postalCode` VARCHAR(15) NOT NULL, \n",
            "\tterritory VARCHAR(10) NOT NULL, \n",
            "\tPRIMARY KEY (`officeCode`)\n",
            ")DEFAULT CHARSET=utf8mb4 COLLATE utf8mb4_0900_ai_ci ENGINE=InnoDB\n",
            "\n",
            "/*\n",
            "3 rows from offices table:\n",
            "officeCode\tcity\tphone\taddressLine1\taddressLine2\tstate\tcountry\tpostalCode\tterritory\n",
            "1\tSan Francisco\t+1 650 219 4782\t100 Market Street\tSuite 300\tCA\tUSA\t94080\tNA\n",
            "2\tBoston\t+1 215 837 0825\t1550 Court Place\tSuite 102\tMA\tUSA\t02107\tNA\n",
            "3\tNYC\t+1 212 555 3000\t523 East 53rd Street\tapt. 5A\tNY\tUSA\t10022\tNA\n",
            "*/\n",
            "\n",
            "\n",
            "CREATE TABLE orderdetails (\n",
            "\t`orderNumber` INTEGER NOT NULL, \n",
            "\t`productCode` VARCHAR(15) NOT NULL, \n",
            "\t`quantityOrdered` INTEGER NOT NULL, \n",
            "\t`priceEach` DECIMAL(10, 2) NOT NULL, \n",
            "\t`orderLineNumber` SMALLINT NOT NULL, \n",
            "\tPRIMARY KEY (`orderNumber`, `productCode`), \n",
            "\tCONSTRAINT orderdetails_ibfk_1 FOREIGN KEY(`orderNumber`) REFERENCES orders (`orderNumber`), \n",
            "\tCONSTRAINT orderdetails_ibfk_2 FOREIGN KEY(`productCode`) REFERENCES products (`productCode`)\n",
            ")DEFAULT CHARSET=utf8mb4 COLLATE utf8mb4_0900_ai_ci ENGINE=InnoDB\n",
            "\n",
            "/*\n",
            "3 rows from orderdetails table:\n",
            "orderNumber\tproductCode\tquantityOrdered\tpriceEach\torderLineNumber\n",
            "10100\tS18_1749\t30\t136.00\t3\n",
            "10100\tS18_2248\t50\t55.09\t2\n",
            "10100\tS18_4409\t22\t75.46\t4\n",
            "*/\n",
            "\n",
            "\n",
            "CREATE TABLE orders (\n",
            "\t`orderNumber` INTEGER NOT NULL, \n",
            "\t`orderDate` DATE NOT NULL, \n",
            "\t`requiredDate` DATE NOT NULL, \n",
            "\t`shippedDate` DATE, \n",
            "\tstatus VARCHAR(15) NOT NULL, \n",
            "\tcomments TEXT, \n",
            "\t`customerNumber` INTEGER NOT NULL, \n",
            "\tPRIMARY KEY (`orderNumber`), \n",
            "\tCONSTRAINT orders_ibfk_1 FOREIGN KEY(`customerNumber`) REFERENCES customers (`customerNumber`)\n",
            ")DEFAULT CHARSET=utf8mb4 COLLATE utf8mb4_0900_ai_ci ENGINE=InnoDB\n",
            "\n",
            "/*\n",
            "3 rows from orders table:\n",
            "orderNumber\torderDate\trequiredDate\tshippedDate\tstatus\tcomments\tcustomerNumber\n",
            "10100\t2003-01-06\t2003-01-13\t2003-01-10\tShipped\tNone\t363\n",
            "10101\t2003-01-09\t2003-01-18\t2003-01-11\tShipped\tCheck on availability.\t128\n",
            "10102\t2003-01-10\t2003-01-18\t2003-01-14\tShipped\tNone\t181\n",
            "*/\n",
            "\n",
            "\n",
            "CREATE TABLE payments (\n",
            "\t`customerNumber` INTEGER NOT NULL, \n",
            "\t`checkNumber` VARCHAR(50) NOT NULL, \n",
            "\t`paymentDate` DATE NOT NULL, \n",
            "\tamount DECIMAL(10, 2) NOT NULL, \n",
            "\tPRIMARY KEY (`customerNumber`, `checkNumber`), \n",
            "\tCONSTRAINT payments_ibfk_1 FOREIGN KEY(`customerNumber`) REFERENCES customers (`customerNumber`)\n",
            ")DEFAULT CHARSET=utf8mb4 COLLATE utf8mb4_0900_ai_ci ENGINE=InnoDB\n",
            "\n",
            "/*\n",
            "3 rows from payments table:\n",
            "customerNumber\tcheckNumber\tpaymentDate\tamount\n",
            "103\tHQ336336\t2004-10-19\t6066.78\n",
            "103\tJM555205\t2003-06-05\t14571.44\n",
            "103\tOM314933\t2004-12-18\t1676.14\n",
            "*/\n",
            "\n",
            "\n",
            "CREATE TABLE productlines (\n",
            "\t`productLine` VARCHAR(50) NOT NULL, \n",
            "\t`textDescription` VARCHAR(4000), \n",
            "\t`htmlDescription` MEDIUMTEXT, \n",
            "\timage MEDIUMBLOB, \n",
            "\tPRIMARY KEY (`productLine`)\n",
            ")DEFAULT CHARSET=utf8mb4 COLLATE utf8mb4_0900_ai_ci ENGINE=InnoDB\n",
            "\n",
            "/*\n",
            "3 rows from productlines table:\n",
            "productLine\ttextDescription\thtmlDescription\timage\n",
            "Classic Cars\tAttention car enthusiasts: Make your wildest car ownership dreams come true. Whether you are looking\tNone\tNone\n",
            "Motorcycles\tOur motorcycles are state of the art replicas of classic as well as contemporary motorcycle legends \tNone\tNone\n",
            "Planes\tUnique, diecast airplane and helicopter replicas suitable for collections, as well as home, office o\tNone\tNone\n",
            "*/\n",
            "\n",
            "\n",
            "CREATE TABLE products (\n",
            "\t`productCode` VARCHAR(15) NOT NULL, \n",
            "\t`productName` VARCHAR(70) NOT NULL, \n",
            "\t`productLine` VARCHAR(50) NOT NULL, \n",
            "\t`productScale` VARCHAR(10) NOT NULL, \n",
            "\t`productVendor` VARCHAR(50) NOT NULL, \n",
            "\t`productDescription` TEXT NOT NULL, \n",
            "\t`quantityInStock` SMALLINT NOT NULL, \n",
            "\t`buyPrice` DECIMAL(10, 2) NOT NULL, \n",
            "\t`MSRP` DECIMAL(10, 2) NOT NULL, \n",
            "\tPRIMARY KEY (`productCode`), \n",
            "\tCONSTRAINT products_ibfk_1 FOREIGN KEY(`productLine`) REFERENCES productlines (`productLine`)\n",
            ")DEFAULT CHARSET=utf8mb4 COLLATE utf8mb4_0900_ai_ci ENGINE=InnoDB\n",
            "\n",
            "/*\n",
            "3 rows from products table:\n",
            "productCode\tproductName\tproductLine\tproductScale\tproductVendor\tproductDescription\tquantityInStock\tbuyPrice\tMSRP\n",
            "S10_1678\t1969 Harley Davidson Ultimate Chopper\tMotorcycles\t1:10\tMin Lin Diecast\tThis replica features working kickstand, front suspension, gear-shift lever, footbrake lever, drive \t7933\t48.81\t95.70\n",
            "S10_1949\t1952 Alpine Renault 1300\tClassic Cars\t1:10\tClassic Metal Creations\tTurnable front wheels; steering function; detailed interior; detailed engine; opening hood; opening \t7305\t98.58\t214.30\n",
            "S10_2016\t1996 Moto Guzzi 1100i\tMotorcycles\t1:10\tHighway 66 Mini Classics\tOfficial Moto Guzzi logos and insignias, saddle bags located on side of motorcycle, detailed engine,\t6625\t68.99\t118.94\n",
            "*/\n"
          ]
        }
      ]
    },
    {
      "cell_type": "markdown",
      "source": [
        "### Step: Set Environment Variables for API Keys and Tracing\n",
        "\n",
        "1. **OpenAI API Key**:\n",
        "   - The `OPENAI_API_KEY` environment variable is used to authenticate requests made to OpenAI's services.\n",
        "   - Replace the placeholder with your actual API key.\n",
        "\n",
        "2. **LangChain Tracing**:\n",
        "   - The `LANGCHAIN_TRACING_V2` environment variable enables LangChain's tracing functionality.\n",
        "   - Tracing is useful for debugging and monitoring the execution of chains and tools.\n",
        "\n",
        "3. **LangChain API Key**:\n",
        "   - The `LANGCHAIN_API_KEY` is required to access certain features or services offered by LangChain.\n"
      ],
      "metadata": {
        "id": "VvJltpVdt0tL"
      }
    },
    {
      "cell_type": "code",
      "source": [
        "import os\n",
        "# set the OpenAI API key for authentication with OpenAI services\n",
        "os.environ[\"OPENAI_API_KEY\"] = \"*****************************************************\"\n",
        "# enable LangChain's tracing functionality for debugging or monitoring\n",
        "os.environ[\"LANGCHAIN_TRACING_V2\"] = \"true\"\n",
        "# set the LangChain API key for accessing LangChain services\n",
        "os.environ[\"LANGCHAIN_API_KEY\"] = \"*********************************************\"\n"
      ],
      "metadata": {
        "id": "Z6IfK8MV0wXy"
      },
      "execution_count": 6,
      "outputs": []
    },
    {
      "cell_type": "markdown",
      "source": [
        "### Step: Generate SQL Query from Natural Language\n",
        "\n",
        "1. **Initialize the Language Model (LLM)**:\n",
        "   - The `ChatOpenAI` class is used to initialize OpenAI's GPT-3.5-turbo model with a temperature of `0`. A temperature of `0` ensures that the model’s responses are deterministic (i.e., always the same for a given input).\n",
        "\n",
        "2. **Create SQL Query Chain**:\n",
        "   - The `create_sql_query_chain` function is used to link the LLM with the database connection (`db`). This chain transforms natural language questions into SQL queries.\n",
        "\n",
        "3. **Invoke the Query**:\n",
        "   - The `invoke` method is called with a natural language question (`\"what is price of 1968 Ford Mustang\"`), and it generates an SQL query based on the input.\n",
        "\n",
        "4. **Print the Query**:\n",
        "   - The final SQL query is printed to the console.\n",
        "\n",
        "This code effectively translates a user's natural language question into an SQL query, which can then be executed on the database to retrieve the desired information.\n"
      ],
      "metadata": {
        "id": "uep6bERZuGvF"
      }
    },
    {
      "cell_type": "code",
      "source": [
        "from langchain_openai import ChatOpenAI\n",
        "from langchain.chains import create_sql_query_chain\n",
        "\n",
        "\n",
        "# initialize the language model (LLM) from OpenAI using GPT-3.5-turbo with a temperature of 0 for deterministic outputs\n",
        "llm = ChatOpenAI(model=\"gpt-3.5-turbo\", temperature=0)\n",
        "# create the SQL query chain that takes the LLM and the database connection as input\n",
        "generate_query =create_sql_query_chain(llm, db)\n",
        "\n",
        "# invoke the query chain with a natural language question to be converted into an SQL query\n",
        "query= generate_query.invoke({\"question\": \"what is price of `1968 Ford Mustang`\"})\n",
        "\n",
        "# print the generated SQL query\n",
        "print(query)"
      ],
      "metadata": {
        "colab": {
          "base_uri": "https://localhost:8080/"
        },
        "id": "RiCC2ZNA006l",
        "outputId": "83891ea4-e3f7-4541-96b6-b2185bee5335"
      },
      "execution_count": 7,
      "outputs": [
        {
          "output_type": "stream",
          "name": "stdout",
          "text": [
            "SELECT `buyPrice`, `MSRP`\n",
            "FROM products\n",
            "WHERE `productName` = '1968 Ford Mustang'\n",
            "LIMIT 1;\n"
          ]
        }
      ]
    },
    {
      "cell_type": "markdown",
      "source": [
        "### Step: Execute the SQL Query\n",
        "\n",
        "1. **Initialize QuerySQLDataBaseTool**:\n",
        "   - The `QuerySQLDataBaseTool` class from LangChain is used to execute SQL queries on the connected database (`db`). This tool allows you to run the SQL queries generated by the language model.\n",
        "\n",
        "2. **Execute the Query**:\n",
        "   - The `invoke` method is called with the SQL query (`query`), which was generated in the previous step. This executes the query on the connected database and retrieves the results.\n",
        "\n",
        "The tool bridges the gap between natural language processing (NLP) and SQL query execution, providing a seamless way to query the database using natural language input.\n"
      ],
      "metadata": {
        "id": "XKcG1CYnVlrP"
      }
    },
    {
      "cell_type": "code",
      "source": [
        "from langchain_community.tools.sql_database.tool import QuerySQLDataBaseTool\n",
        "execute_query = QuerySQLDataBaseTool(db=db)\n",
        "\n",
        "# invoke the tool to execute the generated SQL query on the connected database\n",
        "# this will return the result of the query\n",
        "execute_query.invoke(query)"
      ],
      "metadata": {
        "colab": {
          "base_uri": "https://localhost:8080/",
          "height": 35
        },
        "id": "_BxL9qfW1el6",
        "outputId": "3c89162d-02c7-4e1b-fe3e-a31451703fea"
      },
      "execution_count": 8,
      "outputs": [
        {
          "output_type": "execute_result",
          "data": {
            "text/plain": [
              "\"[(Decimal('95.34'), Decimal('194.57'))]\""
            ],
            "application/vnd.google.colaboratory.intrinsic+json": {
              "type": "string"
            }
          },
          "metadata": {},
          "execution_count": 8
        }
      ]
    },
    {
      "cell_type": "code",
      "source": [
        "# create a chain by linking the query generation step and the query execution step\n",
        "chain = generate_query | execute_query\n",
        "\n",
        "# invoke the chain with the natural language question \"How many products are there\"\n",
        "# this will generate the SQL query and then execute it on the connected database\n",
        "chain.invoke({\"question\": \"How many products are there\"})"
      ],
      "metadata": {
        "colab": {
          "base_uri": "https://localhost:8080/",
          "height": 35
        },
        "id": "Kf2TzUe203vc",
        "outputId": "4f3c926f-984e-4fe5-e505-b1907393731d"
      },
      "execution_count": 9,
      "outputs": [
        {
          "output_type": "execute_result",
          "data": {
            "text/plain": [
              "'[(110,)]'"
            ],
            "application/vnd.google.colaboratory.intrinsic+json": {
              "type": "string"
            }
          },
          "metadata": {},
          "execution_count": 9
        }
      ]
    },
    {
      "cell_type": "markdown",
      "source": [
        "This step is helpful for debugging and verifying the prompt before execution."
      ],
      "metadata": {
        "id": "kJxPmU7kaWz7"
      }
    },
    {
      "cell_type": "code",
      "source": [
        "# retrieve the list of prompts used by the chain and access the first prompt\n",
        "# the 'pretty_print()' method is called to display the prompt in a more readable format\n",
        "chain.get_prompts()[0].pretty_print()\n"
      ],
      "metadata": {
        "colab": {
          "base_uri": "https://localhost:8080/"
        },
        "id": "WkyqNw9f1JE3",
        "outputId": "d316aeb1-2056-47e7-f5a5-df21cea86931"
      },
      "execution_count": 10,
      "outputs": [
        {
          "output_type": "stream",
          "name": "stdout",
          "text": [
            "You are a MySQL expert. Given an input question, first create a syntactically correct MySQL query to run, then look at the results of the query and return the answer to the input question.\n",
            "Unless the user specifies in the question a specific number of examples to obtain, query for at most 5 results using the LIMIT clause as per MySQL. You can order the results to return the most informative data in the database.\n",
            "Never query for all columns from a table. You must query only the columns that are needed to answer the question. Wrap each column name in backticks (`) to denote them as delimited identifiers.\n",
            "Pay attention to use only the column names you can see in the tables below. Be careful to not query for columns that do not exist. Also, pay attention to which column is in which table.\n",
            "Pay attention to use CURDATE() function to get the current date, if the question involves \"today\".\n",
            "\n",
            "Use the following format:\n",
            "\n",
            "Question: Question here\n",
            "SQLQuery: SQL Query to run\n",
            "SQLResult: Result of the SQLQuery\n",
            "Answer: Final answer here\n",
            "\n",
            "Only use the following tables:\n",
            "\u001b[33;1m\u001b[1;3m{table_info}\u001b[0m\n",
            "\n",
            "Question: \u001b[33;1m\u001b[1;3m{input}\u001b[0m\n"
          ]
        }
      ]
    },
    {
      "cell_type": "markdown",
      "source": [
        "\n",
        "This step defines and executes a processing chain for answering a user's question by generating an SQL query, executing it, and rephrasing the results into a user-friendly answer"
      ],
      "metadata": {
        "id": "Umub8V6Rszlq"
      }
    },
    {
      "cell_type": "code",
      "source": [
        "# Import necessary modules\n",
        "from operator import itemgetter\n",
        "\n",
        "# Import classes for handling output parsing and prompt templating\n",
        "from langchain_core.output_parsers import StrOutputParser\n",
        "from langchain_core.prompts import PromptTemplate\n",
        "from langchain_core.runnables import RunnablePassthrough\n",
        "\n",
        "# Create a PromptTemplate object that structures how the question, query, and result should be formatted\n",
        "answer_prompt = PromptTemplate.from_template(\n",
        "    \"\"\"Given the following user question, corresponding SQL query, and SQL result, answer the user question.\n",
        "\n",
        "Question: {question}  # The user's question\n",
        "SQL Query: {query}      # The SQL query generated to answer the question\n",
        "SQL Result: {result}    # The result of executing the SQL query\n",
        "Answer: \"\"\"             # The final output answer to be generated\n",
        ")\n",
        "\n",
        "# Create a rephrasing pipeline that takes the SQL result and formats the answer using an LLM (large language model)\n",
        "rephrase_answer = answer_prompt | llm | StrOutputParser()\n",
        "\n",
        "# Chain the components together: first generating the query, then executing it, and finally rephrasing the result\n",
        "chain = (\n",
        "    RunnablePassthrough.assign(query=generate_query)        # Assign the query generation step\n",
        "    .assign(result=itemgetter(\"query\") | execute_query)     # Assign the execution of the SQL query\n",
        "    | rephrase_answer                                       # Assign the rephrasing step that formats the answer\n",
        ")\n",
        "\n",
        "# Invoke the chain with the user's question about the most recent order\n",
        "chain.invoke({\"question\": \"Which order was placed most recently?\"})\n"
      ],
      "metadata": {
        "colab": {
          "base_uri": "https://localhost:8080/",
          "height": 35
        },
        "id": "KVCYCPpU2s1d",
        "outputId": "0a9a538e-96a6-4d69-c435-665c44620944"
      },
      "execution_count": 11,
      "outputs": [
        {
          "output_type": "execute_result",
          "data": {
            "text/plain": [
              "'The most recent order placed was order number 10424 on May 31, 2005.'"
            ],
            "application/vnd.google.colaboratory.intrinsic+json": {
              "type": "string"
            }
          },
          "metadata": {},
          "execution_count": 11
        }
      ]
    },
    {
      "cell_type": "markdown",
      "source": [
        "### Few-shot prompt:\n",
        " - Understanding User Intent: By showing the model how to translate a question into a query, you're teaching it to understand the user's intent and generate appropriate queries.\n",
        "\n",
        " - Providing Structure: It helps the model understand which SQL syntax and clauses (e.g., SELECT, WHERE, LIMIT) to use when forming a query.\n",
        "\n",
        "- Reducing Ambiguity: The examples help reduce any ambiguity in generating queries, ensuring that the model provides accurate and well-structured queries for similar user inputs.\n"
      ],
      "metadata": {
        "id": "uPkoDITyWfxG"
      }
    },
    {
      "cell_type": "code",
      "source": [
        "# Examples of user queries with corresponding SQL queries for training the model\n",
        "examples = [\n",
        "    # Query to list customers from France with a credit limit above 20,000\n",
        "    {\n",
        "        \"input\": \"Can you list all customers in France who have a credit limit greater than 20,000?\",\n",
        "        \"query\": \"SELECT * FROM customers WHERE country = 'France' AND creditLimit > 20000;\"\n",
        "    },\n",
        "    # Query to find the highest payment made by any customer\n",
        "    {\n",
        "        \"input\": \"What is the highest payment amount made by a customer?\",\n",
        "        \"query\": \"SELECT MAX(amount) FROM payments;\"\n",
        "    },\n",
        "    # Query to show product details for products in the 'Motorcycles' category\n",
        "    {\n",
        "        \"input\": \"Please show product details for all items in the 'Motorcycles' product line.\",\n",
        "        \"query\": \"SELECT * FROM products WHERE productLine = 'Motorcycles';\"\n",
        "    },\n",
        "    # Query to retrieve names of employees who report to employee number 1002\n",
        "    {\n",
        "        \"input\": \"Which employees report to employee number 1002? Please provide their names.\",\n",
        "        \"query\": \"SELECT firstName, lastName FROM employees WHERE reportsTo = 1002;\"\n",
        "    },\n",
        "    # Query to list products that have less than 7000 units in stock\n",
        "    {\n",
        "        \"input\": \"Can you list all products with less than 7000 units in stock?\",\n",
        "        \"query\": \"SELECT productName, quantityInStock FROM products WHERE quantityInStock < 7000;\"\n",
        "    },\n",
        "    # Query to fetch the prices of the '1968 Ford Mustang'\n",
        "    {\n",
        "        'input': \"What is the price of the '1968 Ford Mustang'?\",\n",
        "        'query': \"SELECT `buyPrice`, `MSRP` FROM products WHERE `productName` = '1968 Ford Mustang' LIMIT 1;\"\n",
        "    }\n",
        "]\n"
      ],
      "metadata": {
        "id": "qJZ8vYwD3I4m"
      },
      "execution_count": 12,
      "outputs": []
    },
    {
      "cell_type": "markdown",
      "source": [
        "### Step Explanation: Formatting SQL Queries with Few-Shot Learning\n",
        "\n",
        "1. **Chat Prompt Template**:  \n",
        "   A template is created to structure the conversation, where the human asks a question, and the AI responds with the SQL query.\n",
        "\n",
        "2. **Few-Shot Learning**:  \n",
        "   The model is provided with a few examples of user questions and their corresponding SQL queries to help it learn the format.\n",
        "\n",
        "3. **Query Generation**:  \n",
        "   Using the `few_shot_prompt.format()`, the model generates a SQL query for a new user input based on the examples.\n",
        "\n",
        "This method trains the model to convert natural language questions into SQL queries.\n"
      ],
      "metadata": {
        "id": "mnBily-ezycc"
      }
    },
    {
      "cell_type": "code",
      "source": [
        "from langchain_core.prompts import ChatPromptTemplate, MessagesPlaceholder, FewShotChatMessagePromptTemplate, PromptTemplate\n",
        "\n",
        "# Creating a prompt template for a simple chat format where the 'human' asks a question and the 'ai' generates a SQL query\n",
        "example_prompt = ChatPromptTemplate.from_messages(\n",
        "    [\n",
        "        (\"human\", \"{input}\\nSQLQuery:\"),  # User asks a question, followed by the SQL query\n",
        "        (\"ai\", \"{query}\"),  # The AI generates the SQL query based on the question\n",
        "    ]\n",
        ")\n",
        "\n",
        "# Creating a few-shot prompt that includes example prompts to show the model how to generate SQL queries\n",
        "few_shot_prompt = FewShotChatMessagePromptTemplate(\n",
        "    example_prompt=example_prompt,  # The example prompt template\n",
        "    examples=examples,  # A list of example input-output pairs\n",
        "    input_variables=[\"input\"],  # The input variable that will be used in the format\n",
        ")\n",
        "\n",
        "# Print separator for better readability\n",
        "print(\"-----------\")\n",
        "\n",
        "# Use the few-shot prompt to format a new input question and generate the corresponding SQL query\n",
        "print(few_shot_prompt.format(input1=\"How many products are there?\"))\n"
      ],
      "metadata": {
        "colab": {
          "base_uri": "https://localhost:8080/"
        },
        "id": "H3sLLayg3WV6",
        "outputId": "904a01b8-3725-46cf-9c49-853ab91474b0"
      },
      "execution_count": 13,
      "outputs": [
        {
          "output_type": "stream",
          "name": "stdout",
          "text": [
            "-----------\n",
            "Human: Can you list all customers in France who have a credit limit greater than 20,000?\n",
            "SQLQuery:\n",
            "AI: SELECT * FROM customers WHERE country = 'France' AND creditLimit > 20000;\n",
            "Human: What is the highest payment amount made by a customer?\n",
            "SQLQuery:\n",
            "AI: SELECT MAX(amount) FROM payments;\n",
            "Human: Please show product details for all items in the 'Motorcycles' product line.\n",
            "SQLQuery:\n",
            "AI: SELECT * FROM products WHERE productLine = 'Motorcycles';\n",
            "Human: Which employees report to employee number 1002? Please provide their names.\n",
            "SQLQuery:\n",
            "AI: SELECT firstName, lastName FROM employees WHERE reportsTo = 1002;\n",
            "Human: Can you list all products with less than 7000 units in stock?\n",
            "SQLQuery:\n",
            "AI: SELECT productName, quantityInStock FROM products WHERE quantityInStock < 7000;\n",
            "Human: What is the price of the '1968 Ford Mustang'?\n",
            "SQLQuery:\n",
            "AI: SELECT `buyPrice`, `MSRP` FROM products WHERE `productName` = '1968 Ford Mustang' LIMIT 1;\n"
          ]
        }
      ]
    },
    {
      "cell_type": "markdown",
      "source": [
        "### Output Explanation\n",
        "\n",
        "The output shows a conversation where the user asks a question, and the model generates an appropriate SQL query based on the input. For each user query, the model uses the examples it has learned to form a structured SQL query. The output demonstrates how the model processes the input and responds with the correct SQL syntax, including examples like retrieving customer data, payment amounts, and product details.\n",
        "\n",
        "Example:\n",
        "- **Input**: \"How many products are there?\"\n",
        "- **Generated SQL Query**: \"SELECT COUNT(*) FROM products;\"\n"
      ],
      "metadata": {
        "id": "IvZRgkBbz9OB"
      }
    },
    {
      "cell_type": "markdown",
      "source": [
        "### Step: Dynamic few-shot example selection\n",
        "\n",
        "In this step, dynamic few-shot example selection is implemented using semantic similarity. The Chroma vector store is initialized to store example embeddings, and any previous data is cleared. The SemanticSimilarityExampleSelector uses OpenAI embeddings to convert input queries and examples into vectors, then selects the top k most relevant examples based on similarity. This allows for adaptive selection of examples based on the user’s input, improving the model’s response"
      ],
      "metadata": {
        "id": "JRjiZ1O-WkX5"
      }
    },
    {
      "cell_type": "code",
      "source": [
        "from langchain_community.vectorstores import Chroma\n",
        "from langchain_core.example_selectors import SemanticSimilarityExampleSelector\n",
        "from langchain_openai import OpenAIEmbeddings\n",
        "\n",
        "# Initialize Chroma vector store\n",
        "vectorstore = Chroma()\n",
        "\n",
        "# Delete any existing collections in the vectorstore\n",
        "vectorstore.delete_collection()\n",
        "\n",
        "# Set up example selector with semantic similarity\n",
        "example_selector = SemanticSimilarityExampleSelector.from_examples(\n",
        "    examples,  # List of examples\n",
        "    OpenAIEmbeddings(),  # Embedding model for text\n",
        "    vectorstore,  # Vector store for embeddings\n",
        "    k=2,  # Number of examples to return\n",
        "    input_keys=[\"input\"],  # Key for input text\n",
        ")\n",
        "\n",
        "\n",
        "example_selector.select_examples({\"input\": \"How many employees?\"})\n"
      ],
      "metadata": {
        "colab": {
          "base_uri": "https://localhost:8080/"
        },
        "id": "FLLY5GkD4FaJ",
        "outputId": "36303e5f-7fa9-4959-c3b2-6be8cbd472b9"
      },
      "execution_count": 14,
      "outputs": [
        {
          "output_type": "stream",
          "name": "stderr",
          "text": [
            "<ipython-input-14-cdaac05322f0>:6: LangChainDeprecationWarning: The class `Chroma` was deprecated in LangChain 0.2.9 and will be removed in 1.0. An updated version of the class exists in the :class:`~langchain-chroma package and should be used instead. To use it run `pip install -U :class:`~langchain-chroma` and import as `from :class:`~langchain_chroma import Chroma``.\n",
            "  vectorstore = Chroma()\n"
          ]
        },
        {
          "output_type": "execute_result",
          "data": {
            "text/plain": [
              "[{'input': 'Which employees report to employee number 1002? Please provide their names.',\n",
              "  'query': 'SELECT firstName, lastName FROM employees WHERE reportsTo = 1002;'},\n",
              " {'input': 'Can you list all customers in France who have a credit limit greater than 20,000?',\n",
              "  'query': \"SELECT * FROM customers WHERE country = 'France' AND creditLimit > 20000;\"}]"
            ]
          },
          "metadata": {},
          "execution_count": 14
        }
      ]
    },
    {
      "cell_type": "markdown",
      "source": [
        "Dynamic Example Selection: The FewShotChatMessagePromptTemplate replaces the static examples argument with example_selector. Instead of using pre-defined examples, it dynamically selects the most relevant examples at runtime based on the user's input."
      ],
      "metadata": {
        "id": "vr_LlJQhfK2E"
      }
    },
    {
      "cell_type": "code",
      "source": [
        "# Create a FewShotChatMessagePromptTemplate using dynamic example selection\n",
        "few_shot_prompt = FewShotChatMessagePromptTemplate(\n",
        "    example_prompt=example_prompt,  # The base structure of each example (human/AI interaction)\n",
        "    example_selector=example_selector,  # Dynamically selects the most relevant examples using the selector\n",
        "    input_variables=[\"input\", \"top_k\"],  # Input variables required for formatting (query and number of examples)\n",
        ")\n",
        "\n",
        "# Format the prompt using the given input query (\"How many products are there?\")\n",
        "# The `example_selector` dynamically retrieves the most relevant examples to construct the final prompt\n",
        "print(few_shot_prompt.format(input=\"How many products are there?\"))\n"
      ],
      "metadata": {
        "colab": {
          "base_uri": "https://localhost:8080/"
        },
        "id": "4rID0Q0d4jHj",
        "outputId": "3fc6dece-7dd6-4afc-e02e-ccb9e90cc6dd"
      },
      "execution_count": 17,
      "outputs": [
        {
          "output_type": "stream",
          "name": "stdout",
          "text": [
            "Human: Can you list all products with less than 7000 units in stock?\n",
            "SQLQuery:\n",
            "AI: SELECT productName, quantityInStock FROM products WHERE quantityInStock < 7000;\n",
            "Human: Please show product details for all items in the 'Motorcycles' product line.\n",
            "SQLQuery:\n",
            "AI: SELECT * FROM products WHERE productLine = 'Motorcycles';\n"
          ]
        }
      ]
    },
    {
      "cell_type": "markdown",
      "source": [
        "Final prompts : customizing prompts"
      ],
      "metadata": {
        "id": "72ZSFWBeW_tE"
      }
    },
    {
      "cell_type": "markdown",
      "source": [
        "This step customizes a prompt for generating accurate SQL queries by combining a system message with dynamic few-shot examples and the user's input. The system message sets the context, the few-shot prompt provides relevant examples, and the human input specifies the question, ensuring the model generates precise and context-aware SQL queries."
      ],
      "metadata": {
        "id": "hrr6-wznkA0o"
      }
    },
    {
      "cell_type": "code",
      "source": [
        "# Define a final prompt that integrates a system message, dynamic few-shot examples, and a human input.\n",
        "final_prompt = ChatPromptTemplate.from_messages(\n",
        "    [\n",
        "        # System-level instruction providing context for the task and relevant table information.\n",
        "        (\"system\", \"Given an input question, create a syntactically correct MySQL query to run. Unless otherwise specificed.\\n\\nHere is the relevant table info: {table_info}\\n\\nBelow are a number of examples of questions and their corresponding SQL queries.\"),\n",
        "\n",
        "        # Include the dynamically selected few-shot examples.\n",
        "        few_shot_prompt,\n",
        "\n",
        "        # Incorporate the user's question as the final input.\n",
        "        (\"human\", \"{input}\"),\n",
        "    ]\n",
        ")\n",
        "\n",
        "# Format the final prompt with a specific user query (\"How many products are there?\") and table info.\n",
        "print(final_prompt.format(input=\"How many products are there?\", table_info=\"some table info\"))\n"
      ],
      "metadata": {
        "colab": {
          "base_uri": "https://localhost:8080/"
        },
        "id": "PCnlv2pd469x",
        "outputId": "22f71b04-c480-48d3-f5d7-5910fcbcce02"
      },
      "execution_count": 18,
      "outputs": [
        {
          "output_type": "stream",
          "name": "stdout",
          "text": [
            "System: Given an input question, create a syntactically correct MySQL query to run. Unless otherwise specificed.\n",
            "\n",
            "Here is the relevant table info: some table info\n",
            "\n",
            "Below are a number of examples of questions and their corresponding SQL queries.\n",
            "Human: Can you list all products with less than 7000 units in stock?\n",
            "SQLQuery:\n",
            "AI: SELECT productName, quantityInStock FROM products WHERE quantityInStock < 7000;\n",
            "Human: Please show product details for all items in the 'Motorcycles' product line.\n",
            "SQLQuery:\n",
            "AI: SELECT * FROM products WHERE productLine = 'Motorcycles';\n",
            "Human: How many products are there?\n"
          ]
        }
      ]
    },
    {
      "cell_type": "markdown",
      "source": [
        "The SQL query chain is built by combining the language model with the final prompt and the database connection.\n",
        "The pipeline uses multiple steps: it generates a query, executes it, and rephrases the output for better readability."
      ],
      "metadata": {
        "id": "fEUAas59kOp0"
      }
    },
    {
      "cell_type": "code",
      "source": [
        "# Generate a chain for querying the database based on user questions\n",
        "\n",
        "# Create the SQL query chain using the defined language model (llm), database (db), and final_prompt\n",
        "generate_query = create_sql_query_chain(llm, db, final_prompt)\n",
        "\n",
        "# Build a pipeline:\n",
        "# 1. Assigns the SQL query generation to `query`.\n",
        "# 2. Executes the SQL query to retrieve the result using the `execute_query` tool.\n",
        "# 3. Passes the SQL query result to the `rephrase_answer` prompt for better formatting and clarity.\n",
        "chain = (\n",
        "    RunnablePassthrough.assign(query=generate_query).assign(\n",
        "        result=itemgetter(\"query\") | execute_query\n",
        "    )\n",
        "    | rephrase_answer\n",
        ")\n",
        "\n",
        "# Run the chain with a new question and generate the answer\n",
        "chain.invoke({\"question\": \"How many employees work in the Sales department?\"})\n"
      ],
      "metadata": {
        "colab": {
          "base_uri": "https://localhost:8080/",
          "height": 35
        },
        "id": "eN7UFbYs5ULO",
        "outputId": "802a716a-9196-41f8-972c-190b9f23c493"
      },
      "execution_count": 19,
      "outputs": [
        {
          "output_type": "execute_result",
          "data": {
            "text/plain": [
              "'There are 20 employees who work in the Sales department.'"
            ],
            "application/vnd.google.colaboratory.intrinsic+json": {
              "type": "string"
            }
          },
          "metadata": {},
          "execution_count": 19
        }
      ]
    },
    {
      "cell_type": "markdown",
      "source": [
        "### Step: Dynamic relevant table selection"
      ],
      "metadata": {
        "id": "VzLDjfdJWxQ0"
      }
    },
    {
      "cell_type": "markdown",
      "source": [
        "This step processes a CSV file containing database table information and formats it into a readable string for documentation purposes. It reads the table names and descriptions, combines them into a structured format, and outputs the details. This is useful for providing database schema context to models or for documentation purposes.\n"
      ],
      "metadata": {
        "id": "L0iH3N3kVzUE"
      }
    },
    {
      "cell_type": "code",
      "source": [
        "from operator import itemgetter\n",
        "from langchain.chains.openai_tools import create_extraction_chain_pydantic\n",
        "from langchain_core.pydantic_v1 import BaseModel, Field\n",
        "from typing import List\n",
        "import pandas as pd\n",
        "\n",
        "def get_table_details():\n",
        "    # Read the CSV file into a DataFrame\n",
        "    table_description = pd.read_csv(\"database_table_descriptions.csv\")\n",
        "    table_docs = []\n",
        "\n",
        "    # Iterate over the DataFrame rows to create Document objects\n",
        "    table_details = \"\"\n",
        "    for index, row in table_description.iterrows():\n",
        "        table_details = table_details + \"Table Name:\" + row['Table'] + \"\\n\" + \"Table Description:\" + row['Description'] + \"\\n\\n\"\n",
        "\n",
        "    return table_details\n",
        "\n",
        "\n",
        "class Table(BaseModel):\n",
        "    \"\"\"Table in SQL database.\"\"\"\n",
        "\n",
        "    name: str = Field(description=\"Name of table in SQL database.\")\n",
        "\n",
        "# table_names = \"\\n\".join(db.get_usable_table_names())\n",
        "table_details = get_table_details()\n",
        "print(table_details)"
      ],
      "metadata": {
        "colab": {
          "base_uri": "https://localhost:8080/"
        },
        "id": "fuTfq0e-6Mgi",
        "outputId": "3ef9d0aa-1108-40d1-d884-8c44a563ee3d"
      },
      "execution_count": 23,
      "outputs": [
        {
          "output_type": "stream",
          "name": "stdout",
          "text": [
            "Table Name:productlines\n",
            "Table Description:Stores information about the different product lines offered by the company, including a unique name, textual description, HTML description, and image. Categorizes products into different lines.\n",
            "\n",
            "Table Name:products\n",
            "Table Description:Contains details of each product sold by the company, including code, name, product line, scale, vendor, description, stock quantity, buy price, and MSRP. Linked to the productlines table.\n",
            "\n",
            "Table Name:offices\n",
            "Table Description:Holds data on the company's sales offices, including office code, city, phone number, address, state, country, postal code, and territory. Each office is uniquely identified by its office code.\n",
            "\n",
            "Table Name:employees\n",
            "Table Description:Stores information about employees, including number, last name, first name, job title, contact info, and office code. Links to offices and maps organizational structure through the reportsTo attribute.\n",
            "\n",
            "Table Name:customers\n",
            "Table Description:Captures data on customers, including customer number, name, contact details, address, assigned sales rep, and credit limit. Central to managing customer relationships and sales processes.\n",
            "\n",
            "Table Name:payments\n",
            "Table Description:Records payments made by customers, tracking the customer number, check number, payment date, and amount. Linked to the customers table for financial tracking and account management.\n",
            "\n",
            "Table Name:orders\n",
            "Table Description:Details each sales order placed by customers, including order number, dates, status, comments, and customer number. Linked to the customers table, tracking sales transactions.\n",
            "\n",
            "Table Name:orderdetails\n",
            "Table Description:Describes individual line items for each sales order, including order number, product code, quantity, price, and order line number. Links orders to products, detailing the items sold.\n",
            "\n",
            "\n"
          ]
        }
      ]
    },
    {
      "cell_type": "markdown",
      "source": [
        "This step identifies potentially relevant SQL tables for a user's query by leveraging the provided database schema descriptions (table_details) and extracting relevant table names.\n",
        "\n"
      ],
      "metadata": {
        "id": "dv5oRWgvYddU"
      }
    },
    {
      "cell_type": "code",
      "source": [
        "# Define a prompt to instruct the language model to extract relevant SQL table names\n",
        "table_details_prompt = f\"\"\"Return the names of ALL the SQL tables that might be relevant to the user question. \\\n",
        "The tables are:\n",
        "\n",
        "{table_details}\n",
        "\n",
        "Remember to include ALL POTENTIALLY RELEVANT tables, even if you're not sure that they're needed.\"\"\"\n",
        "\n",
        "# Create an extraction chain to process the prompt and extract relevant table names\n",
        "# - `Table` defines the schema for the expected output (table names in this case)\n",
        "# - `llm` is the language model that will process the input\n",
        "# - `system_message` contains the table description and the instructions for the model\n",
        "table_chain = create_extraction_chain_pydantic(Table, llm, system_message=table_details_prompt)\n",
        "\n",
        "# Invoke the chain with the user query to identify relevant tables\n",
        "# The input specifies the user's question about retrieving customer details and their order count\n",
        "tables = table_chain.invoke({\"input\": \"give me details of customer and their order count\"})\n",
        "\n",
        "# Output the relevant table names\n",
        "tables\n"
      ],
      "metadata": {
        "colab": {
          "base_uri": "https://localhost:8080/"
        },
        "id": "GA1TjUgm7EST",
        "outputId": "c46ac13c-6402-4b62-be53-31f91e90c1b5"
      },
      "execution_count": 28,
      "outputs": [
        {
          "output_type": "execute_result",
          "data": {
            "text/plain": [
              "[Table(name='customers'), Table(name='orders')]"
            ]
          },
          "metadata": {},
          "execution_count": 28
        }
      ]
    },
    {
      "cell_type": "code",
      "source": [
        "# Extract table names from a list of `Table` objects\n",
        "def get_tables(tables: List[Table]) -> List[str]:\n",
        "    return [table.name for table in tables]\n",
        "\n",
        "# Chain to select relevant tables based on the user query\n",
        "select_table = (\n",
        "    {\"input\": itemgetter(\"question\")}\n",
        "    | create_extraction_chain_pydantic(Table, llm, system_message=table_details_prompt)\n",
        "    | get_tables\n",
        ")\n",
        "\n",
        "# Run the chain with the user's query\n",
        "select_table.invoke({\"question\": \"give me details of customer and their order count\"})\n"
      ],
      "metadata": {
        "colab": {
          "base_uri": "https://localhost:8080/"
        },
        "id": "rTf1SphE69Xf",
        "outputId": "963d9a05-1a3a-4db1-8c2d-3007c85e7e97"
      },
      "execution_count": 29,
      "outputs": [
        {
          "output_type": "execute_result",
          "data": {
            "text/plain": [
              "['customers', 'orders']"
            ]
          },
          "metadata": {},
          "execution_count": 29
        }
      ]
    },
    {
      "cell_type": "code",
      "source": [
        "# Define a chain to process a query and produce the desired result\n",
        "chain = (\n",
        "    # Step 1: Use `select_table` to identify relevant table names for the query\n",
        "    RunnablePassthrough.assign(table_names_to_use=select_table)\n",
        "    |\n",
        "    # Step 2: Generate a query based on the user input and execute it\n",
        "    RunnablePassthrough.assign(query=generate_query).assign(\n",
        "        result=itemgetter(\"query\") | execute_query\n",
        "    )\n",
        "    |\n",
        "    # Step 3: Rephrase the query's result for user-friendly output\n",
        "    rephrase_answer\n",
        ")\n",
        "\n",
        "# Invoke the chain with a specific question\n",
        "chain.invoke({\"question\": \"How many customers with order count more than 5\"})\n"
      ],
      "metadata": {
        "colab": {
          "base_uri": "https://localhost:8080/",
          "height": 53
        },
        "id": "6DyhowwN71ts",
        "outputId": "6de421e9-b5e2-4c63-dc86-f27ee88d9e1d"
      },
      "execution_count": 34,
      "outputs": [
        {
          "output_type": "execute_result",
          "data": {
            "text/plain": [
              "'There are 2 customers with an order count greater than 5. Customer number 124 has 17 orders and customer number 141 has 26 orders.'"
            ],
            "application/vnd.google.colaboratory.intrinsic+json": {
              "type": "string"
            }
          },
          "metadata": {},
          "execution_count": 34
        }
      ]
    },
    {
      "cell_type": "code",
      "source": [
        "chain.invoke({\"question\": \"Can you list their names?\"})"
      ],
      "metadata": {
        "colab": {
          "base_uri": "https://localhost:8080/",
          "height": 70
        },
        "id": "2GGHwgnI8T7i",
        "outputId": "0362fa5c-bdee-49dd-f900-661a05a05585"
      },
      "execution_count": 33,
      "outputs": [
        {
          "output_type": "execute_result",
          "data": {
            "text/plain": [
              "\"The names of the customers from France with a credit limit greater than $20,000 are: Atelier graphique, La Rochelle Gifts, Saveley & Henriot, Co., Daedalus Designs Imports, La Corne D'abondance, Co., Mini Caravy, Alpha Cognac, Lyon Souveniers, Auto Associés & Cie., Marseille Mini Autos, Reims Collectables, and Auto Canal+ Petit.\""
            ],
            "application/vnd.google.colaboratory.intrinsic+json": {
              "type": "string"
            }
          },
          "metadata": {},
          "execution_count": 33
        }
      ]
    },
    {
      "cell_type": "markdown",
      "source": [
        "### Final step : adding memory to the chatbot\n",
        "\n",
        "\n",
        "Adding memory to the chatbot enables it to retain context from previous interactions, which is crucial for answering follow-up questions or handling multi-turn conversations effectively. In the context of a database-related chatbot, memory allows the system to remember key information\n",
        "\n",
        "\n"
      ],
      "metadata": {
        "id": "dvy70bh0W28Q"
      }
    },
    {
      "cell_type": "code",
      "source": [
        "# Define a final prompt for generating SQL queries with memory support\n",
        "final_prompt = ChatPromptTemplate.from_messages(\n",
        "    [\n",
        "        # System message providing instructions and context for query generation\n",
        "        (\"system\", \"You are a MySQL expert. Given an input question, create a syntactically correct MySQL query to run. Unless otherwise specificed.\\n\\nHere is the relevant table info: {table_info}\\n\\nBelow are a number of examples of questions and their corresponding SQL queries. Those examples are just for referecne and should be considered while answering follow up questions\"),\n",
        "\n",
        "        # Dynamically selected few-shot examples to guide the model in query generation\n",
        "        few_shot_prompt,\n",
        "\n",
        "        # Placeholder for storing previous messages to add memory and context\n",
        "        MessagesPlaceholder(variable_name=\"messages\"),\n",
        "\n",
        "        # Human input representing the current question/query\n",
        "        (\"human\", \"{input}\"),\n",
        "    ]\n",
        ")\n",
        "\n",
        "# Format the prompt with specific details:\n",
        "# - `input`: The user's current question (\"How many products are there?\")\n",
        "# - `table_info`: Information about database tables (\"some table info\")\n",
        "# - `messages`: An empty list indicating no prior conversation history (for fresh start)\n",
        "print(final_prompt.format(input=\"How many products are there?\", table_info=\"some table info\", messages=[]))\n"
      ],
      "metadata": {
        "colab": {
          "base_uri": "https://localhost:8080/"
        },
        "id": "StZ_P_5_87L6",
        "outputId": "428315b6-42f9-4f79-95b1-b76f1580c507"
      },
      "execution_count": 35,
      "outputs": [
        {
          "output_type": "stream",
          "name": "stdout",
          "text": [
            "System: You are a MySQL expert. Given an input question, create a syntactically correct MySQL query to run. Unless otherwise specificed.\n",
            "\n",
            "Here is the relevant table info: some table info\n",
            "\n",
            "Below are a number of examples of questions and their corresponding SQL queries. Those examples are just for referecne and should be considered while answering follow up questions\n",
            "Human: Can you list all products with less than 7000 units in stock?\n",
            "SQLQuery:\n",
            "AI: SELECT productName, quantityInStock FROM products WHERE quantityInStock < 7000;\n",
            "Human: Please show product details for all items in the 'Motorcycles' product line.\n",
            "SQLQuery:\n",
            "AI: SELECT * FROM products WHERE productLine = 'Motorcycles';\n",
            "Human: How many products are there?\n"
          ]
        }
      ]
    },
    {
      "cell_type": "markdown",
      "source": [
        "This code integrates memory with the chain and assigns necessary operations for query generation and execution."
      ],
      "metadata": {
        "id": "b2VjjURnavr8"
      }
    },
    {
      "cell_type": "code",
      "source": [
        "from langchain.memory import ChatMessageHistory  # Importing memory functionality to track conversation history\n",
        "history = ChatMessageHistory()  # Initializing the message history for storing past interactions\n",
        "\n",
        "# Creating the SQL query generation chain using the final prompt\n",
        "generate_query = create_sql_query_chain(llm, db, final_prompt)\n",
        "\n",
        "# Creating a chain of tasks where each task assigns a specific operation\n",
        "chain = (\n",
        "    RunnablePassthrough.assign(table_names_to_use=select_table) |  # Assigning the relevant tables based on the user's query\n",
        "    RunnablePassthrough.assign(query=generate_query).assign(  # Generating the query from the LLM\n",
        "        result=itemgetter(\"query\") | execute_query  # Extracting and executing the generated query\n",
        "    ) |\n",
        "    rephrase_answer  # Rephrasing the result of the query before sending it back to the user\n",
        ")\n"
      ],
      "metadata": {
        "id": "OmXe-uWJ8lvt"
      },
      "execution_count": 37,
      "outputs": []
    },
    {
      "cell_type": "code",
      "source": [
        "question = \"How many cutomers with order count more than 5\"\n",
        "response = chain.invoke({\"question\": question,\"messages\":history.messages})\n",
        "response"
      ],
      "metadata": {
        "colab": {
          "base_uri": "https://localhost:8080/",
          "height": 35
        },
        "id": "6x-mjNpo9lc8",
        "outputId": "197c533b-b1f8-4f07-f72e-8b363c02f885"
      },
      "execution_count": 38,
      "outputs": [
        {
          "output_type": "execute_result",
          "data": {
            "text/plain": [
              "'There are 2 customers with an order count greater than 5. Customer 124 has 17 orders and customer 141 has 26 orders.'"
            ],
            "application/vnd.google.colaboratory.intrinsic+json": {
              "type": "string"
            }
          },
          "metadata": {},
          "execution_count": 38
        }
      ]
    },
    {
      "cell_type": "markdown",
      "source": [
        "This code stores the interaction between the user and AI into the chat history. The add_user_message method records the user's input, and add_ai_message logs the AI's response, maintaining a history of the conversation for future context, especially for follow-up questions."
      ],
      "metadata": {
        "id": "7aXs-Q3ZbSFJ"
      }
    },
    {
      "cell_type": "code",
      "source": [
        "history.add_user_message(question)  # Adds the user's question to the chat history\n",
        "history.add_ai_message(response)  # Adds the AI's response to the chat history\n"
      ],
      "metadata": {
        "id": "k98Hmj2Y9mvk"
      },
      "execution_count": 40,
      "outputs": []
    },
    {
      "cell_type": "code",
      "source": [
        "history.messages"
      ],
      "metadata": {
        "colab": {
          "base_uri": "https://localhost:8080/"
        },
        "id": "x9DLodzOonza",
        "outputId": "d6c46f5d-1607-42f7-b3fc-c89ac6cd7b76"
      },
      "execution_count": 41,
      "outputs": [
        {
          "output_type": "execute_result",
          "data": {
            "text/plain": [
              "[HumanMessage(content='How many cutomers with order count more than 5', additional_kwargs={}, response_metadata={}),\n",
              " AIMessage(content='There are 2 customers with an order count greater than 5. Customer 124 has 17 orders and customer 141 has 26 orders.', additional_kwargs={}, response_metadata={}),\n",
              " HumanMessage(content='How many cutomers with order count more than 5', additional_kwargs={}, response_metadata={}),\n",
              " AIMessage(content='There are 2 customers with an order count greater than 5. Customer 124 has 17 orders and customer 141 has 26 orders.', additional_kwargs={}, response_metadata={})]"
            ]
          },
          "metadata": {},
          "execution_count": 41
        }
      ]
    },
    {
      "cell_type": "code",
      "source": [
        "response = chain.invoke({\"question\": \"Can you list there names?\",\"messages\":history.messages})\n",
        "response"
      ],
      "metadata": {
        "colab": {
          "base_uri": "https://localhost:8080/",
          "height": 35
        },
        "id": "ptN_RIoI-CZX",
        "outputId": "5345709c-c6d0-449c-e22b-2963ca400b81"
      },
      "execution_count": 42,
      "outputs": [
        {
          "output_type": "execute_result",
          "data": {
            "text/plain": [
              "\"The names of the customers who have placed more than 5 orders are 'Mini Gifts Distributors Ltd.' and 'Euro+ Shopping Channel'.\""
            ],
            "application/vnd.google.colaboratory.intrinsic+json": {
              "type": "string"
            }
          },
          "metadata": {},
          "execution_count": 42
        }
      ]
    }
  ]
}